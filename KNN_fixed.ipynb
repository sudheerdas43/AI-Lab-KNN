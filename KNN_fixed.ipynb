{
  "nbformat": 4,
  "nbformat_minor": 0,
  "metadata": {
    "colab": {
      "provenance": [],
      "authorship_tag": "ABX9TyOdX1gvuxeGxcG6EeIVesQH",
      "include_colab_link": true
    },
    "kernelspec": {
      "name": "python3",
      "display_name": "Python 3"
    },
    "language_info": {
      "name": "python"
    }
  },
  "cells": [
    {
      "cell_type": "markdown",
      "metadata": {
        "id": "view-in-github",
        "colab_type": "text"
      },
      "source": [
        "<a href=\"https://colab.research.google.com/github/sudheerdas43/AI-Lab-KNN/blob/main/KNN_fixed.ipynb\" target=\"_parent\"><img src=\"https://colab.research.google.com/assets/colab-badge.svg\" alt=\"Open In Colab\"/></a>"
      ]
    },
    {
      "cell_type": "code",
      "execution_count": 1,
      "metadata": {
        "colab": {
          "base_uri": "https://localhost:8080/"
        },
        "id": "91V6Is5FqGQL",
        "outputId": "8315c377-b7a5-4eb9-b42d-5c1c3acbc015"
      },
      "outputs": [
        {
          "output_type": "stream",
          "name": "stdout",
          "text": [
            "The test point [3, 2] is classified as: Class A\n"
          ]
        }
      ],
      "source": [
        "from collections import Counter\n",
        "import math\n",
        "\n",
        "# Example dataset: Each item is ([feature1, feature2], label)\n",
        "data = [\n",
        "    ([1, 2], 'Class A'),\n",
        "    ([2, 3], 'Class A'),\n",
        "    ([3, 3], 'Class B'),\n",
        "    ([6, 5], 'Class B')\n",
        "]\n",
        "\n",
        "# Function to calculate Euclidean distance between two points with 2 features\n",
        "def euclidean_distance(point1, point2):\n",
        "    return math.sqrt((point1[0] - point2[0])**2 + (point1[1] - point2[1])**2)\n",
        "\n",
        "# KNN function\n",
        "def knn(test_point, data, k=3):\n",
        "    distances = []\n",
        "    for features, label in data:\n",
        "        dist = euclidean_distance(test_point, features)\n",
        "        distances.append((dist, label))\n",
        "    distances.sort(key=lambda x: x[0])  # Sort by distance\n",
        "\n",
        "    # Get labels of k closest points\n",
        "    k_labels = [label for _, label in distances[:k]]\n",
        "\n",
        "    # Return the most common label among neighbors\n",
        "    most_common = Counter(k_labels).most_common(1)[0][0]\n",
        "    return most_common\n",
        "\n",
        "# Test example\n",
        "test_point = [3, 2]\n",
        "predicted_class = knn(test_point, data, k=3)\n",
        "print(f\"The test point {test_point} is classified as: {predicted_class}\")"
      ]
    }
  ]
}